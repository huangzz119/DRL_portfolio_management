{
 "cells": [
  {
   "cell_type": "code",
   "execution_count": 1,
   "metadata": {},
   "outputs": [
    {
     "name": "stdout",
     "output_type": "stream",
     "text": [
      "WARNING:tensorflow:From /opt/anaconda-gpu-2/lib/python3.8/site-packages/tensorflow/python/compat/v2_compat.py:96: disable_resource_variables (from tensorflow.python.ops.variable_scope) is deprecated and will be removed in a future version.\n",
      "Instructions for updating:\n",
      "non-resource variables are not supported in the long term\n"
     ]
    }
   ],
   "source": [
    "from ddpg.DDPG import DDPG\n",
    "from ddpg.portfolio import PortfolioEnv\n",
    "from ddpg.StockActor import StockActor\n",
    "from ddpg.StockCritic import StockCritic\n",
    "from ddpg.ornstein_uhlenbeck import OrnsteinUhlenbeckActionNoise\n",
    "\n",
    "import tensorflow.compat.v1 as tf\n",
    "tf.disable_v2_behavior()\n",
    "import numpy as np\n",
    "import json \n",
    "\n",
    "import os\n",
    "fileDir = os.getcwd()"
   ]
  },
  {
   "cell_type": "code",
   "execution_count": null,
   "metadata": {},
   "outputs": [],
   "source": [
    "with open(fileDir+'/config/cnn.json', 'r') as f:\n",
    "    config = json.load(f)\n",
    "\n",
    "dataset_path = fileDir + '/data/data1130'\n",
    "window_size = config[\"window_length\"]\n",
    "steps = config[\"steps\"]\n",
    "trading_cost = config[\"trading_cost\"]\n",
    "start_idx = config[\"start_idx\"]"
   ]
  },
  {
   "cell_type": "code",
   "execution_count": null,
   "metadata": {},
   "outputs": [],
   "source": [
    "env = PortfolioEnv(dataset_path,\n",
    "                   window_size=window_size,\n",
    "                   steps=steps,\n",
    "                   trading_cost=trading_cost,\n",
    "                   start_idx = start_idx)\n",
    "\n",
    "info = env.reset()\n",
    "asset_dim = info[\"observation\"].shape[0]\n",
    "feature_dim = info[\"observation\"].shape[2]"
   ]
  },
  {
   "cell_type": "code",
   "execution_count": null,
   "metadata": {},
   "outputs": [],
   "source": [
    "actor_learning_rate = config[\"actor_learning_rate\"]\n",
    "critic_learning_rate = config[\"critic_learning_rate\"]\n",
    "tau = config[\"tau\"]\n",
    "gamma = config[\"gamma\"]\n",
    "batch_size = config[\"batch_size\"]\n",
    "nn = config[\"nn\"]\n",
    "path = config[\"path\"]"
   ]
  },
  {
   "cell_type": "code",
   "execution_count": null,
   "metadata": {},
   "outputs": [],
   "source": [
    "with tf.Session() as sess:\n",
    "    actor = StockActor(sess, asset_dim, window_size, feature_dim, actor_learning_rate, tau, batch_size, nn)\n",
    "    num_actor_vars = actor.num_trainable_vars\n",
    "    critic = StockCritic(sess, asset_dim, window_size, feature_dim, critic_learning_rate, tau, gamma, num_actor_vars, nn)\n",
    "    actor_noise = OrnsteinUhlenbeckActionNoise(mu=np.zeros(asset_dim))\n",
    "\n",
    "    ddpg = DDPG(env, sess, actor, critic, actor_noise, config, nn, \n",
    "                model_save_path = fileDir+ path + \"ckpt\",\n",
    "                summary_path = fileDir + path + \"logdir\", \n",
    "                train_info_path = fileDir + path + \"train_info_cnn.csv\")\n",
    "    ddpg.train()\n",
    "ddpg.env.save_info(info_path = fileDir + path + \"info_cnn.csv\")"
   ]
  },
  {
   "cell_type": "code",
   "execution_count": null,
   "metadata": {},
   "outputs": [],
   "source": []
  }
 ],
 "metadata": {
  "kernelspec": {
   "display_name": "Python 3",
   "language": "python",
   "name": "python3"
  },
  "language_info": {
   "codemirror_mode": {
    "name": "ipython",
    "version": 3
   },
   "file_extension": ".py",
   "mimetype": "text/x-python",
   "name": "python",
   "nbconvert_exporter": "python",
   "pygments_lexer": "ipython3",
   "version": "3.8.6"
  }
 },
 "nbformat": 4,
 "nbformat_minor": 4
}
