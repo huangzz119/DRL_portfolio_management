{
 "cells": [
  {
   "cell_type": "code",
   "execution_count": 1,
   "metadata": {},
   "outputs": [
    {
     "name": "stdout",
     "output_type": "stream",
     "text": [
      "WARNING:tensorflow:From /opt/anaconda-gpu-2/lib/python3.8/site-packages/tensorflow/python/compat/v2_compat.py:96: disable_resource_variables (from tensorflow.python.ops.variable_scope) is deprecated and will be removed in a future version.\n",
      "Instructions for updating:\n",
      "non-resource variables are not supported in the long term\n"
     ]
    }
   ],
   "source": [
    "from ddpg.DDPG import DDPG\n",
    "from ddpg.portfolio import PortfolioEnv\n",
    "from ddpg.StockActor import StockActor\n",
    "from ddpg.StockCritic import StockCritic\n",
    "from ddpg.ornstein_uhlenbeck import OrnsteinUhlenbeckActionNoise\n",
    "\n",
    "import tensorflow.compat.v1 as tf\n",
    "tf.disable_v2_behavior()\n",
    "import numpy as np\n",
    "import json \n",
    "\n",
    "import os\n",
    "import sys\n",
    "fileDir = os.getcwd()"
   ]
  },
  {
   "cell_type": "code",
   "execution_count": 2,
   "metadata": {},
   "outputs": [
    {
     "name": "stdout",
     "output_type": "stream",
     "text": [
      "WARNING:tensorflow:From /mnt/campus/math/cluster/teaching/slurm-pt1/work_root/z453huan/ddpg/StockActor.py:19: batch_normalization (from tensorflow.python.layers.normalization) is deprecated and will be removed in a future version.\n",
      "Instructions for updating:\n",
      "Use keras.layers.BatchNormalization instead.  In particular, `tf.control_dependencies(tf.GraphKeys.UPDATE_OPS)` should not be used (consult the `tf.keras.layers.BatchNormalization` documentation).\n",
      "WARNING:tensorflow:From /opt/anaconda-gpu-2/lib/python3.8/site-packages/tensorflow/python/layers/normalization.py:336: Layer.apply (from tensorflow.python.keras.engine.base_layer_v1) is deprecated and will be removed in a future version.\n",
      "Instructions for updating:\n",
      "Please use `layer.__call__` method instead.\n",
      "WARNING:tensorflow:From /mnt/campus/math/cluster/teaching/slurm-pt1/work_root/z453huan/ddpg/StockActor.py:35: flatten (from tensorflow.python.layers.core) is deprecated and will be removed in a future version.\n",
      "Instructions for updating:\n",
      "Use keras.layers.Flatten instead.\n",
      "WARNING:tensorflow:From /mnt/campus/math/cluster/teaching/slurm-pt1/work_root/z453huan/ddpg/StockActor.py:37: dense (from tensorflow.python.layers.core) is deprecated and will be removed in a future version.\n",
      "Instructions for updating:\n",
      "Use keras.layers.Dense instead.\n",
      "------------------------------------------------------------------------------------------------\n",
      "Episode: 0, Reward: 0.0140, Qmax: 0.0021, loss: 0.0027\n"
     ]
    },
    {
     "name": "stderr",
     "output_type": "stream",
     "text": [
      "/opt/anaconda-gpu-2/lib/python3.8/site-packages/numpy/core/_asarray.py:83: VisibleDeprecationWarning: Creating an ndarray from ragged nested sequences (which is a list-or-tuple of lists-or-tuples-or ndarrays with different lengths or shapes) is deprecated. If you meant to do this, you must specify 'dtype=object' when creating the ndarray\n",
      "  return array(a, dtype, copy=False, order=order)\n"
     ]
    },
    {
     "name": "stdout",
     "output_type": "stream",
     "text": [
      "------------------------------------------------------------------------------------------------\n",
      "Episode: 1, Reward: 0.3758, Qmax: 0.0022, loss: 0.0069\n",
      "------------------------------------------------------------------------------------------------\n",
      "Episode: 2, Reward: 0.4121, Qmax: 0.0037, loss: 0.0089\n",
      "------------------------------------------------------------------------------------------------\n",
      "Episode: 3, Reward: 0.4350, Qmax: 0.0065, loss: 0.0094\n",
      "------------------------------------------------------------------------------------------------\n",
      "Episode: 4, Reward: 0.4149, Qmax: 0.0061, loss: 0.0087\n",
      "------------------------------------------------------------------------------------------------\n",
      "Episode: 5, Reward: 0.4235, Qmax: 0.0058, loss: 0.0086\n",
      "------------------------------------------------------------------------------------------------\n",
      "Episode: 6, Reward: 0.4230, Qmax: 0.0050, loss: 0.0083\n",
      "------------------------------------------------------------------------------------------------\n",
      "Episode: 7, Reward: 0.3713, Qmax: 0.0034, loss: 0.0073\n",
      "------------------------------------------------------------------------------------------------\n",
      "Episode: 8, Reward: 0.3876, Qmax: 0.0029, loss: 0.0070\n",
      "------------------------------------------------------------------------------------------------\n",
      "Episode: 9, Reward: 0.3779, Qmax: 0.0030, loss: 0.0069\n",
      "Model saved in /mnt/campus/math/cluster/teaching/slurm-pt1/work_root/z453huan/result_3500/ddpg-cnn/ckpt\n",
      "Finish.\n"
     ]
    }
   ],
   "source": [
    "with open(fileDir+'/config/cnn.json', 'r') as f:\n",
    "    config = json.load(f)\n",
    "\n",
    "dataset_path = fileDir + '/data/data1130'\n",
    "window_size = config[\"window_length\"]\n",
    "steps = config[\"steps\"]\n",
    "trading_cost = config[\"trading_cost\"]\n",
    "start_idx = config[\"start_idx\"]\n",
    "\n",
    "env = PortfolioEnv(dataset_path,\n",
    "                   window_size=window_size,\n",
    "                   steps=steps,\n",
    "                   trading_cost=trading_cost,\n",
    "                   start_idx = start_idx)\n",
    "\n",
    "info = env.reset()\n",
    "asset_dim = info[\"observation\"].shape[0]\n",
    "feature_dim = info[\"observation\"].shape[2]\n",
    "\n",
    "actor_learning_rate = config[\"actor_learning_rate\"]\n",
    "critic_learning_rate = config[\"critic_learning_rate\"]\n",
    "tau = config[\"tau\"]\n",
    "gamma = config[\"gamma\"]\n",
    "batch_size = config[\"batch_size\"]\n",
    "nn = config[\"nn\"]\n",
    "path = config[\"path\"]\n",
    "\n",
    "with tf.Session() as sess:\n",
    "    actor = StockActor(sess, asset_dim, window_size, feature_dim, actor_learning_rate, tau, batch_size, nn)\n",
    "    num_actor_vars = actor.num_trainable_vars\n",
    "    critic = StockCritic(sess, asset_dim, window_size, feature_dim, critic_learning_rate, tau, gamma, num_actor_vars, nn)\n",
    "    actor_noise = OrnsteinUhlenbeckActionNoise(mu=np.zeros(asset_dim))\n",
    "\n",
    "    ddpg = DDPG(env, sess, actor, critic, actor_noise, config, nn, \n",
    "                model_save_path = fileDir+ path + \"ckpt\",\n",
    "                summary_path = fileDir + path + \"logdir\", \n",
    "                train_info_path = fileDir + path + \"train_info_cnn.csv\")\n",
    "    ddpg.train()\n",
    "ddpg.env.save_info(info_path = fileDir + path + \"info_cnn.csv\")"
   ]
  },
  {
   "cell_type": "code",
   "execution_count": null,
   "metadata": {},
   "outputs": [],
   "source": []
  }
 ],
 "metadata": {
  "kernelspec": {
   "display_name": "Python 3",
   "language": "python",
   "name": "python3"
  },
  "language_info": {
   "codemirror_mode": {
    "name": "ipython",
    "version": 3
   },
   "file_extension": ".py",
   "mimetype": "text/x-python",
   "name": "python",
   "nbconvert_exporter": "python",
   "pygments_lexer": "ipython3",
   "version": "3.8.6"
  }
 },
 "nbformat": 4,
 "nbformat_minor": 4
}
